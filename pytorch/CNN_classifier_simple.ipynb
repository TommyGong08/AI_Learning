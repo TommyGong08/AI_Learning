{
 "cells": [
  {
   "cell_type": "code",
   "execution_count": 14,
   "id": "9d6b9fbf",
   "metadata": {},
   "outputs": [],
   "source": [
    "import torch\n",
    "import torchvision\n",
    "import torchvision.transforms as transforms"
   ]
  },
  {
   "cell_type": "code",
   "execution_count": 15,
   "id": "b60259b9",
   "metadata": {},
   "outputs": [
    {
     "name": "stdout",
     "output_type": "stream",
     "text": [
      "cuda:0\n"
     ]
    }
   ],
   "source": [
    "device = torch.device(\"cuda:0\" if torch.cuda.is_available() else \"cpu\")\n",
    "# Assume that we are on a CUDA machine, then this should print a CUDA device:\n",
    "print(device)"
   ]
  },
  {
   "cell_type": "code",
   "execution_count": 3,
   "id": "b69f6a9c",
   "metadata": {},
   "outputs": [
    {
     "name": "stdout",
     "output_type": "stream",
     "text": [
      "Collecting jupyter\n",
      "  Downloading jupyter-1.0.0-py2.py3-none-any.whl (2.7 kB)\n",
      "Requirement already satisfied: notebook in c:\\users\\pc\\.conda\\envs\\yolov5\\lib\\site-packages (from jupyter) (6.3.0)\n",
      "Collecting jupyter-console\n",
      "  Downloading jupyter_console-6.4.0-py3-none-any.whl (22 kB)\n",
      "Collecting ipywidgets\n",
      "  Downloading ipywidgets-7.6.3-py2.py3-none-any.whl (121 kB)\n",
      "Requirement already satisfied: ipykernel in c:\\users\\pc\\.conda\\envs\\yolov5\\lib\\site-packages (from jupyter) (5.3.4)\n",
      "Collecting qtconsole\n",
      "  Downloading qtconsole-5.0.3-py3-none-any.whl (119 kB)\n",
      "Requirement already satisfied: nbconvert in c:\\users\\pc\\.conda\\envs\\yolov5\\lib\\site-packages (from jupyter) (6.0.7)\n",
      "Requirement already satisfied: tornado>=4.2 in c:\\users\\pc\\.conda\\envs\\yolov5\\lib\\site-packages (from ipykernel->jupyter) (6.1)\n",
      "Requirement already satisfied: jupyter-client in c:\\users\\pc\\.conda\\envs\\yolov5\\lib\\site-packages (from ipykernel->jupyter) (6.1.12)\n",
      "Requirement already satisfied: traitlets>=4.1.0 in c:\\users\\pc\\.conda\\envs\\yolov5\\lib\\site-packages (from ipykernel->jupyter) (5.0.5)\n",
      "Requirement already satisfied: ipython>=5.0.0 in c:\\users\\pc\\.conda\\envs\\yolov5\\lib\\site-packages (from ipykernel->jupyter) (7.22.0)\n",
      "Requirement already satisfied: colorama in c:\\users\\pc\\.conda\\envs\\yolov5\\lib\\site-packages (from ipython>=5.0.0->ipykernel->jupyter) (0.4.4)\n",
      "Requirement already satisfied: prompt-toolkit!=3.0.0,!=3.0.1,<3.1.0,>=2.0.0 in c:\\users\\pc\\.conda\\envs\\yolov5\\lib\\site-packages (from ipython>=5.0.0->ipykernel->jupyter) (3.0.17)\n",
      "Requirement already satisfied: pickleshare in c:\\users\\pc\\.conda\\envs\\yolov5\\lib\\site-packages (from ipython>=5.0.0->ipykernel->jupyter) (0.7.5)\n",
      "Requirement already satisfied: jedi>=0.16 in c:\\users\\pc\\.conda\\envs\\yolov5\\lib\\site-packages (from ipython>=5.0.0->ipykernel->jupyter) (0.17.0)\n",
      "Requirement already satisfied: decorator in c:\\users\\pc\\.conda\\envs\\yolov5\\lib\\site-packages (from ipython>=5.0.0->ipykernel->jupyter) (5.0.6)\n",
      "Requirement already satisfied: backcall in c:\\users\\pc\\.conda\\envs\\yolov5\\lib\\site-packages (from ipython>=5.0.0->ipykernel->jupyter) (0.2.0)\n",
      "Requirement already satisfied: pygments in c:\\users\\pc\\.conda\\envs\\yolov5\\lib\\site-packages (from ipython>=5.0.0->ipykernel->jupyter) (2.8.1)\n",
      "Requirement already satisfied: setuptools>=18.5 in c:\\users\\pc\\.conda\\envs\\yolov5\\lib\\site-packages (from ipython>=5.0.0->ipykernel->jupyter) (52.0.0.post20210125)\n",
      "Requirement already satisfied: parso>=0.7.0 in c:\\users\\pc\\.conda\\envs\\yolov5\\lib\\site-packages (from jedi>=0.16->ipython>=5.0.0->ipykernel->jupyter) (0.8.2)\n",
      "Requirement already satisfied: wcwidth in c:\\users\\pc\\.conda\\envs\\yolov5\\lib\\site-packages (from prompt-toolkit!=3.0.0,!=3.0.1,<3.1.0,>=2.0.0->ipython>=5.0.0->ipykernel->jupyter) (0.2.5)\n",
      "Requirement already satisfied: ipython-genutils in c:\\users\\pc\\.conda\\envs\\yolov5\\lib\\site-packages (from traitlets>=4.1.0->ipykernel->jupyter) (0.2.0)\n",
      "Collecting jupyterlab-widgets>=1.0.0\n",
      "  Downloading jupyterlab_widgets-1.0.0-py3-none-any.whl (243 kB)\n",
      "Requirement already satisfied: nbformat>=4.2.0 in c:\\users\\pc\\.conda\\envs\\yolov5\\lib\\site-packages (from ipywidgets->jupyter) (5.1.3)\n",
      "Collecting widgetsnbextension~=3.5.0\n",
      "  Downloading widgetsnbextension-3.5.1-py2.py3-none-any.whl (2.2 MB)\n",
      "Requirement already satisfied: jsonschema!=2.5.0,>=2.4 in c:\\users\\pc\\.conda\\envs\\yolov5\\lib\\site-packages (from nbformat>=4.2.0->ipywidgets->jupyter) (3.2.0)\n",
      "Requirement already satisfied: jupyter-core in c:\\users\\pc\\.conda\\envs\\yolov5\\lib\\site-packages (from nbformat>=4.2.0->ipywidgets->jupyter) (4.7.1)\n",
      "Requirement already satisfied: pyrsistent>=0.14.0 in c:\\users\\pc\\.conda\\envs\\yolov5\\lib\\site-packages (from jsonschema!=2.5.0,>=2.4->nbformat>=4.2.0->ipywidgets->jupyter) (0.17.3)\n",
      "Requirement already satisfied: six>=1.11.0 in c:\\users\\pc\\.conda\\envs\\yolov5\\lib\\site-packages (from jsonschema!=2.5.0,>=2.4->nbformat>=4.2.0->ipywidgets->jupyter) (1.15.0)\n",
      "Requirement already satisfied: attrs>=17.4.0 in c:\\users\\pc\\.conda\\envs\\yolov5\\lib\\site-packages (from jsonschema!=2.5.0,>=2.4->nbformat>=4.2.0->ipywidgets->jupyter) (20.3.0)\n",
      "Requirement already satisfied: prometheus-client in c:\\users\\pc\\.conda\\envs\\yolov5\\lib\\site-packages (from notebook->jupyter) (0.10.1)\n",
      "Requirement already satisfied: pyzmq>=17 in c:\\users\\pc\\.conda\\envs\\yolov5\\lib\\site-packages (from notebook->jupyter) (20.0.0)\n",
      "Requirement already satisfied: jinja2 in c:\\users\\pc\\.conda\\envs\\yolov5\\lib\\site-packages (from notebook->jupyter) (2.11.3)\n",
      "Requirement already satisfied: argon2-cffi in c:\\users\\pc\\.conda\\envs\\yolov5\\lib\\site-packages (from notebook->jupyter) (20.1.0)\n",
      "Requirement already satisfied: terminado>=0.8.3 in c:\\users\\pc\\.conda\\envs\\yolov5\\lib\\site-packages (from notebook->jupyter) (0.9.4)\n",
      "Requirement already satisfied: Send2Trash>=1.5.0 in c:\\users\\pc\\.conda\\envs\\yolov5\\lib\\site-packages (from notebook->jupyter) (1.5.0)\n",
      "Requirement already satisfied: python-dateutil>=2.1 in c:\\users\\pc\\.conda\\envs\\yolov5\\lib\\site-packages (from jupyter-client->ipykernel->jupyter) (2.8.1)\n",
      "Requirement already satisfied: pywin32>=1.0 in c:\\users\\pc\\.conda\\envs\\yolov5\\lib\\site-packages (from jupyter-core->nbformat>=4.2.0->ipywidgets->jupyter) (227)\n",
      "Requirement already satisfied: pywinpty>=0.5 in c:\\users\\pc\\.conda\\envs\\yolov5\\lib\\site-packages (from terminado>=0.8.3->notebook->jupyter) (0.5.7)\n",
      "Requirement already satisfied: cffi>=1.0.0 in c:\\users\\pc\\.conda\\envs\\yolov5\\lib\\site-packages (from argon2-cffi->notebook->jupyter) (1.14.5)\n",
      "Requirement already satisfied: pycparser in c:\\users\\pc\\.conda\\envs\\yolov5\\lib\\site-packages (from cffi>=1.0.0->argon2-cffi->notebook->jupyter) (2.20)\n",
      "Requirement already satisfied: MarkupSafe>=0.23 in c:\\users\\pc\\.conda\\envs\\yolov5\\lib\\site-packages (from jinja2->notebook->jupyter) (1.1.1)\n",
      "Requirement already satisfied: mistune<2,>=0.8.1 in c:\\users\\pc\\.conda\\envs\\yolov5\\lib\\site-packages (from nbconvert->jupyter) (0.8.4)\n",
      "Requirement already satisfied: testpath in c:\\users\\pc\\.conda\\envs\\yolov5\\lib\\site-packages (from nbconvert->jupyter) (0.4.4)\n",
      "Requirement already satisfied: entrypoints>=0.2.2 in c:\\users\\pc\\.conda\\envs\\yolov5\\lib\\site-packages (from nbconvert->jupyter) (0.3)\n",
      "Requirement already satisfied: pandocfilters>=1.4.1 in c:\\users\\pc\\.conda\\envs\\yolov5\\lib\\site-packages (from nbconvert->jupyter) (1.4.3)\n",
      "Requirement already satisfied: defusedxml in c:\\users\\pc\\.conda\\envs\\yolov5\\lib\\site-packages (from nbconvert->jupyter) (0.7.1)\n",
      "Requirement already satisfied: bleach in c:\\users\\pc\\.conda\\envs\\yolov5\\lib\\site-packages (from nbconvert->jupyter) (3.3.0)\n",
      "Requirement already satisfied: jupyterlab-pygments in c:\\users\\pc\\.conda\\envs\\yolov5\\lib\\site-packages (from nbconvert->jupyter) (0.1.2)\n",
      "Requirement already satisfied: nbclient<0.6.0,>=0.5.0 in c:\\users\\pc\\.conda\\envs\\yolov5\\lib\\site-packages (from nbconvert->jupyter) (0.5.3)\n",
      "Requirement already satisfied: async-generator in c:\\users\\pc\\.conda\\envs\\yolov5\\lib\\site-packages (from nbclient<0.6.0,>=0.5.0->nbconvert->jupyter) (1.10)\n",
      "Requirement already satisfied: nest-asyncio in c:\\users\\pc\\.conda\\envs\\yolov5\\lib\\site-packages (from nbclient<0.6.0,>=0.5.0->nbconvert->jupyter) (1.5.1)\n",
      "Requirement already satisfied: packaging in c:\\users\\pc\\.conda\\envs\\yolov5\\lib\\site-packages (from bleach->nbconvert->jupyter) (20.9)\n",
      "Requirement already satisfied: webencodings in c:\\users\\pc\\.conda\\envs\\yolov5\\lib\\site-packages (from bleach->nbconvert->jupyter) (0.5.1)\n",
      "Requirement already satisfied: pyparsing>=2.0.2 in c:\\users\\pc\\.conda\\envs\\yolov5\\lib\\site-packages (from packaging->bleach->nbconvert->jupyter) (2.4.7)\n",
      "Collecting qtpy\n",
      "  Downloading QtPy-1.9.0-py2.py3-none-any.whl (54 kB)\n",
      "Installing collected packages: widgetsnbextension, qtpy, jupyterlab-widgets, qtconsole, jupyter-console, ipywidgets, jupyter\n",
      "Successfully installed ipywidgets-7.6.3 jupyter-1.0.0 jupyter-console-6.4.0 jupyterlab-widgets-1.0.0 qtconsole-5.0.3 qtpy-1.9.0 widgetsnbextension-3.5.1\n",
      "Note: you may need to restart the kernel to use updated packages.\n"
     ]
    }
   ],
   "source": []
  },
  {
   "cell_type": "code",
   "execution_count": 16,
   "id": "5f40f32d",
   "metadata": {},
   "outputs": [
    {
     "name": "stdout",
     "output_type": "stream",
     "text": [
      "Files already downloaded and verified\n",
      "Files already downloaded and verified\n"
     ]
    }
   ],
   "source": [
    "transform = transforms.Compose([transforms.ToTensor(),transforms.Normalize((0.5, 0.5, 0.5), (0.5, 0.5, 0.5))])\n",
    "trainset = torchvision.datasets.CIFAR10(root='./data', train=True,download=True, transform=transform)\n",
    "trainloader = torch.utils.data.DataLoader(trainset, batch_size=4,shuffle=True, num_workers=2)\n",
    "testset = torchvision.datasets.CIFAR10(root='./data', train=False,download=True, transform=transform)\n",
    "testloader = torch.utils.data.DataLoader(testset, batch_size=4,shuffle=False, num_workers=2)\n",
    "classes = ('plane', 'car', 'bird', 'cat', 'deer', 'dog', 'frog', 'horse', 'ship', 'truck')"
   ]
  },
  {
   "cell_type": "code",
   "execution_count": 18,
   "id": "ad788b95",
   "metadata": {},
   "outputs": [
    {
     "data": {
      "image/png": "[encoded data removed]",
      "text/plain": [
       "<Figure size 432x288 with 1 Axes>"
      ]
     },
     "metadata": {
      "needs_background": "light"
     },
     "output_type": "display_data"
    },
    {
     "name": "stdout",
     "output_type": "stream",
     "text": [
      " bird truck  ship plane\n"
     ]
    }
   ],
   "source": [
    "# 展示其中的一些训练图片\n",
    "import matplotlib.pyplot as plt\n",
    "import numpy as np\n",
    "# functions to show an image\n",
    "def imshow(img):\n",
    "    img = img / 2 + 0.5 # unnormalize\n",
    "    npimg = img.numpy()\n",
    "    plt.imshow(np.transpose(npimg, (1, 2, 0)))\n",
    "    plt.show()\n",
    "    \n",
    "# get some random training images\n",
    "dataiter = iter(trainloader)\n",
    "images, labels = dataiter.next()\n",
    "# show images\n",
    "imshow(torchvision.utils.make_grid(images))\n",
    "# print labels\n",
    "print(' '.join('%5s' % classes[labels[j]] for j in range(4)))\n"
   ]
  },
  {
   "cell_type": "code",
   "execution_count": 20,
   "id": "bfe62229",
   "metadata": {},
   "outputs": [
    {
     "data": {
      "text/plain": [
       "Net(\n",
       "  (conv1): Conv2d(3, 6, kernel_size=(5, 5), stride=(1, 1))\n",
       "  (pool): MaxPool2d(kernel_size=2, stride=2, padding=0, dilation=1, ceil_mode=False)\n",
       "  (conv2): Conv2d(6, 16, kernel_size=(5, 5), stride=(1, 1))\n",
       "  (fc1): Linear(in_features=400, out_features=120, bias=True)\n",
       "  (fc2): Linear(in_features=120, out_features=84, bias=True)\n",
       "  (fc3): Linear(in_features=84, out_features=10, bias=True)\n",
       ")"
      ]
     },
     "execution_count": 20,
     "metadata": {},
     "output_type": "execute_result"
    }
   ],
   "source": [
    "\n",
    "# 定义一个卷积神经网络\n",
    "import torch.nn as nn \n",
    "import torch.nn.functional as F\n",
    "class Net(nn.Module):\n",
    "    def __init__(self):\n",
    "        super(Net, self).__init__()\n",
    "        self.conv1 = nn.Conv2d(3,6,5)\n",
    "        self.pool = nn.MaxPool2d(2,2)\n",
    "        self.conv2 = nn.Conv2d(6, 16, 5)\n",
    "        self.fc1 = nn.Linear(16 * 5 * 5, 120)\n",
    "        self.fc2 = nn.Linear(120, 84)\n",
    "        self.fc3 = nn.Linear(84, 10)\n",
    "            \n",
    "    def forward(self, x):\n",
    "        x = self.pool(F.relu(self.conv1(x)))\n",
    "        x = self.pool(F.relu(self.conv2(x)))\n",
    "        x = x.view(-1, 16 * 5 * 5)\n",
    "        x = F.relu(self.fc1(x))\n",
    "        x = F.relu(self.fc2(x))\n",
    "        x = self.fc3(x)\n",
    "        return x\n",
    "        \n",
    "net = Net()\n",
    "net.to(device)"
   ]
  },
  {
   "cell_type": "code",
   "execution_count": 21,
   "id": "721ee658",
   "metadata": {},
   "outputs": [],
   "source": [
    "# 定义一个损失函数和优化器，使用分类交叉熵Cross-Enteopy作损失函数，动量SGD做优化器\n",
    "import torch.optim as optim\n",
    "criterion = nn.CrossEntropyLoss()\n",
    "optimizer = optim.SGD(net.parameters(), lr=0.001, momentum=0.9)"
   ]
  },
  {
   "cell_type": "code",
   "execution_count": 24,
   "id": "1ffcfa3e",
   "metadata": {},
   "outputs": [
    {
     "name": "stdout",
     "output_type": "stream",
     "text": [
      "[1,  2000] loss: 1.232\n",
      "[1,  4000] loss: 1.217\n",
      "[1,  6000] loss: 1.219\n",
      "[1,  8000] loss: 1.202\n",
      "[1, 10000] loss: 1.164\n",
      "[1, 12000] loss: 1.179\n",
      "[2,  2000] loss: 1.103\n",
      "[2,  4000] loss: 1.122\n",
      "[2,  6000] loss: 1.102\n",
      "[2,  8000] loss: 1.110\n",
      "[2, 10000] loss: 1.109\n",
      "[2, 12000] loss: 1.110\n",
      "Finished Training\n"
     ]
    }
   ],
   "source": [
    "for epoch in range(2): # loop over the dataset multiple times\n",
    "    running_loss = 0.0\n",
    "    for i, data in enumerate(trainloader, 0):\n",
    "        # get the inputs\n",
    "        inputs, labels = data\n",
    "        \n",
    "        # use GPU\n",
    "        inputs, labels = inputs.to(device), labels.to(device)\n",
    "        \n",
    "        # zero the parameter gradients\n",
    "        optimizer.zero_grad()\n",
    "        # forward + backward + optimize\n",
    "        outputs = net(inputs)\n",
    "        loss = criterion(outputs, labels)\n",
    "        loss.backward()\n",
    "        optimizer.step()\n",
    "        # print statistics\n",
    "        running_loss += loss.item()\n",
    "        if i % 2000 == 1999: # print every 2000 mini-batches\n",
    "             print('[%d, %5d] loss: %.3f' % (epoch + 1, i + 1, running_loss / 2000))\n",
    "             running_loss = 0.0\n",
    "print('Finished Training')"
   ]
  },
  {
   "cell_type": "code",
   "execution_count": 29,
   "id": "fa437c1f",
   "metadata": {},
   "outputs": [
    {
     "name": "stdout",
     "output_type": "stream",
     "text": [
      "Accuracy of the network on the 10000 test images: 59 %\n"
     ]
    }
   ],
   "source": [
    "correct = 0\n",
    "total = 0\n",
    "with torch.no_grad():\n",
    "    for data in testloader:\n",
    "         images, labels = data\n",
    "         images, labels = images.to(device), labels.to(device)\n",
    "         outputs = net(images)\n",
    "         _, predicted = torch.max(outputs.data, 1)\n",
    "         total += labels.size(0)\n",
    "         correct += (predicted == labels).sum().item()\n",
    "print('Accuracy of the network on the 10000 test images: %d %%' % (\n",
    " 100 * correct / total))"
   ]
  },
  {
   "cell_type": "code",
   "execution_count": 31,
   "id": "bb3d5302",
   "metadata": {},
   "outputs": [
    {
     "name": "stdout",
     "output_type": "stream",
     "text": [
      "Accuracy of plane : 69 %\n",
      "Accuracy of   car : 67 %\n",
      "Accuracy of  bird : 36 %\n",
      "Accuracy of   cat : 64 %\n",
      "Accuracy of  deer : 54 %\n",
      "Accuracy of   dog : 38 %\n",
      "Accuracy of  frog : 57 %\n",
      "Accuracy of horse : 69 %\n",
      "Accuracy of  ship : 64 %\n",
      "Accuracy of truck : 70 %\n"
     ]
    }
   ],
   "source": [
    "class_correct = list(0. for i in range(10))\n",
    "class_total = list(0. for i in range(10))\n",
    "with torch.no_grad():\n",
    "     for data in testloader:\n",
    "        images, labels = data\n",
    "        images, labels = images.to(device), labels.to(device)\n",
    "        outputs = net(images)\n",
    "        _, predicted = torch.max(outputs, 1)\n",
    "        c = (predicted == labels).squeeze()\n",
    "        for i in range(4):\n",
    "            label = labels[i]\n",
    "            class_correct[label] += c[i].item()\n",
    "            class_total[label] += 1\n",
    "for i in range(10):\n",
    "    print('Accuracy of %5s : %2d %%' % (classes[i], 100 * class_correct[i] / class_total[i]))"
   ]
  },
  {
   "cell_type": "code",
   "execution_count": null,
   "id": "4206dff0",
   "metadata": {},
   "outputs": [],
   "source": []
  }
 ],
 "metadata": {
  "kernelspec": {
   "display_name": "Python 3",
   "language": "python",
   "name": "python3"
  },
  "language_info": {
   "codemirror_mode": {
    "name": "ipython",
    "version": 3
   },
   "file_extension": ".py",
   "mimetype": "text/x-python",
   "name": "python",
   "nbconvert_exporter": "python",
   "pygments_lexer": "ipython3",
   "version": "3.8.8"
  }
 },
 "nbformat": 4,
 "nbformat_minor": 5
}
